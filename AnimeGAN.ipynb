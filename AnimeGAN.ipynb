{
  "nbformat": 4,
  "nbformat_minor": 0,
  "metadata": {
    "colab": {
      "name": "AnimeGAN.ipynb",
      "provenance": [],
      "collapsed_sections": [],
      "toc_visible": true,
      "include_colab_link": true
    },
    "kernelspec": {
      "name": "python3",
      "display_name": "Python 3"
    },
    "accelerator": "GPU"
  },
  "cells": [
    {
      "cell_type": "markdown",
      "metadata": {
        "id": "view-in-github",
        "colab_type": "text"
      },
      "source": [
        "<a href=\"https://colab.research.google.com/github/AkiSugi/sample_AnimeGAN/blob/main/AnimeGAN.ipynb\" target=\"_parent\"><img src=\"https://colab.research.google.com/assets/colab-badge.svg\" alt=\"Open In Colab\"/></a>"
      ]
    },
    {
      "cell_type": "markdown",
      "metadata": {
        "id": "l52oS1uyY0We"
      },
      "source": [
        "# 0.はじめに  \n",
        "test.pyをColaboratoryで動作させるためにソースを若干修正した  \n",
        "スタイル生成のみ2021/5/19に動作確認を行った  \n",
        "\n",
        "オリジナルのスタイルデータの作成は、未確認  \n",
        "また、スタイルの適用具合の調整ができないかが、残件  \n"
      ]
    },
    {
      "cell_type": "markdown",
      "metadata": {
        "id": "COE8U38Ftqnn"
      },
      "source": [
        "TachibanaYoshinoさんのオリジナルの説明  \n",
        "https://github.com/TachibanaYoshino/AnimeGAN/blob/master/doc/Japanese_README.md  \n",
        "ソース 実世界の写真をアニメ画像に変換  \n",
        "https://github.com/TachibanaYoshino/AnimeGAN  \n"
      ]
    },
    {
      "cell_type": "markdown",
      "metadata": {
        "id": "b5Etg0FEuJcJ"
      },
      "source": [
        "**画像の注意**  \n",
        "学習画像は、風景を対象としたようであるので、人物、動物はあまり効果がないと思われる  \n",
        "乗り物は、それなりに変換されている印象  \n",
        "\n",
        "**スタイル学習の注意**  \n",
        "生成されたスタイルデータは、スタイルデータ全体の明るさや階調に影響されるので、夜のアニメ画像をスタイルデータとして選択しないようにし、スタイルデータ全体の明るさと暗さの整合性を促進するために、スタイルデータ全体の露出補正を行う必要がある。"
      ]
    },
    {
      "cell_type": "markdown",
      "metadata": {
        "id": "ezp4d3TAY_gQ"
      },
      "source": [
        "# 1.事前準備  "
      ]
    },
    {
      "cell_type": "code",
      "metadata": {
        "id": "fS7iU82NtLeY",
        "colab": {
          "base_uri": "https://localhost:8080/"
        },
        "outputId": "132c4fd6-48cb-498f-b029-968669fa5b65"
      },
      "source": [
        "!git clone https://github.com/TachibanaYoshino/AnimeGAN"
      ],
      "execution_count": 1,
      "outputs": [
        {
          "output_type": "stream",
          "text": [
            "Cloning into 'AnimeGAN'...\n",
            "remote: Enumerating objects: 1199, done.\u001b[K\n",
            "remote: Total 1199 (delta 0), reused 0 (delta 0), pack-reused 1199\u001b[K\n",
            "Receiving objects: 100% (1199/1199), 266.61 MiB | 45.94 MiB/s, done.\n",
            "Resolving deltas: 100% (338/338), done.\n"
          ],
          "name": "stdout"
        }
      ]
    },
    {
      "cell_type": "markdown",
      "metadata": {
        "id": "skM9TfvTX86R"
      },
      "source": [
        "スタイルデータを取得  \n",
        "作業用フォルダーとして、スタイルを適用する画像ファイルを格納フォルダーoriginalを作成   \n",
        " "
      ]
    },
    {
      "cell_type": "code",
      "metadata": {
        "id": "QrmYgQF0yGkY",
        "colab": {
          "base_uri": "https://localhost:8080/"
        },
        "outputId": "8c996bf9-fe16-4b35-c61d-c915255ffbfe"
      },
      "source": [
        "%cd /content/AnimeGAN\n",
        "!mkdir original"
      ],
      "execution_count": 2,
      "outputs": [
        {
          "output_type": "stream",
          "text": [
            "/content/AnimeGAN\n"
          ],
          "name": "stdout"
        }
      ]
    },
    {
      "cell_type": "markdown",
      "metadata": {
        "id": "7rbVCWHMk8sA"
      },
      "source": [
        "# 2.初期化  \n",
        "最初に実行するとき、あるいは、ランタイムを再起動した場合に、以下のCellから実行すること  "
      ]
    },
    {
      "cell_type": "code",
      "metadata": {
        "id": "ycqo6BFg6x0-",
        "colab": {
          "base_uri": "https://localhost:8080/"
        },
        "outputId": "7a85cc5c-a8aa-4421-c9ce-13b270cd8f7e"
      },
      "source": [
        "%tensorflow_version 1.x\n",
        "import tensorflow as tf\n",
        "print(tf.__version__)"
      ],
      "execution_count": 3,
      "outputs": [
        {
          "output_type": "stream",
          "text": [
            "TensorFlow 1.x selected.\n",
            "1.15.2\n"
          ],
          "name": "stdout"
        }
      ]
    },
    {
      "cell_type": "markdown",
      "metadata": {
        "id": "lEkwKRU-YvFW"
      },
      "source": [
        "モジュールの読み込みと関数の定義  \n",
        " with tf.variable_scope(\"generator\", reuse=tf.AUTO_REUSE): オリジナルでは、False  \n",
        "\n",
        "---\n",
        "\n",
        " 読み込み時に縦横32の倍数になるようリサイズを行う  \n",
        " 256,256は最小サイズ  \n",
        "\n",
        "---\n",
        "\n",
        " if_adjust_brightness がTrueの場合、生成された画像の明るさを元の画像を参考に調整を行う  \n",
        "  OpenCVで輝度画像を作成し、平均値を求め、同じ値になるよう補正している  \n",
        "  255のClip処理有  "
      ]
    },
    {
      "cell_type": "code",
      "metadata": {
        "id": "x0EDXnzTpy5h",
        "colab": {
          "base_uri": "https://localhost:8080/"
        },
        "outputId": "2d65218d-757b-4161-f170-b1b0666fc5f8"
      },
      "source": [
        "%cd /content/AnimeGAN\n",
        "\n",
        "import os\n",
        "import time\n",
        "import numpy as np\n",
        "\n",
        "from tools.utils import *\n",
        "from glob import glob\n",
        "\n",
        "from net import generator\n",
        "\n",
        "os.environ[\"CUDA_VISIBLE_DEVICES\"] = \"0\"\n",
        "\n",
        "def stats_graph(graph):\n",
        "    flops = tf.profiler.profile(graph, options=tf.profiler.ProfileOptionBuilder.float_operation())\n",
        "    # params = tf.profiler.profile(graph, options=tf.profiler.ProfileOptionBuilder.trainable_variables_parameter())\n",
        "    print('FLOPs: {}'.format(flops.total_float_ops))\n",
        "\n",
        "def test(checkpoint_dir, style_name, test_files, if_adjust_brightness, img_size=[256,256]):\n",
        "    # tf.reset_default_graph()\n",
        "\n",
        "    result_dir = 'results/'+style_name\n",
        "    check_folder(result_dir)\n",
        "\n",
        "    # test_real = tf.placeholder(tf.float32, [1, 256, 256, 3], name='test')\n",
        "    test_real = tf.placeholder(tf.float32, [1, None, None, 3], name='test')\n",
        "\n",
        "    with tf.variable_scope(\"generator\", reuse=tf.AUTO_REUSE):\n",
        "        Anime_generated = generator.G_net(test_real).fake\n",
        "\n",
        "    saver = tf.train.Saver()\n",
        "\n",
        "    gpu_options = tf.GPUOptions(allow_growth=True)\n",
        "    with tf.Session(config=tf.ConfigProto(allow_soft_placement=True, gpu_options=gpu_options)) as sess:\n",
        "        # tf.global_variables_initializer().run()\n",
        "        # load model\n",
        "        ckpt = tf.train.get_checkpoint_state(checkpoint_dir)  # checkpoint file information\n",
        "        if ckpt and ckpt.model_checkpoint_path:\n",
        "            ckpt_name = os.path.basename(ckpt.model_checkpoint_path)  # first line\n",
        "            saver.restore(sess, os.path.join(checkpoint_dir, ckpt_name))\n",
        "            print(\"\\nSuccess to read {}\\n\".format(ckpt_name))\n",
        "        else:\n",
        "            print(\"\\nFailed to find a checkpoint\")\n",
        "            return None\n",
        "        \n",
        "        # FLOPs\n",
        "        # stats_graph(tf.get_default_graph())\n",
        "\n",
        "        begin = time.time()\n",
        "        for sample_file in test_files :\n",
        "            print('Processing image: ' + sample_file)\n",
        "            sample_image = np.asarray(load_test_data(sample_file, img_size))\n",
        "            fname = os.path.basename(sample_file)\n",
        "            save_path = os.path.join(result_dir,'{0}'.format('anime_'+style_name+'_'+fname))\n",
        "\n",
        "            anime_img = sess.run(Anime_generated, feed_dict = {test_real : sample_image})\n",
        "            anime = inverse_transform(anime_img.squeeze())\n",
        "\n",
        "            # Trueを指定\n",
        "            if if_adjust_brightness:\n",
        "              org_img = read_img(sample_file)\n",
        "              anime_adj = adjust_brightness_from_src_to_dst(anime, org_img)\n",
        "              print(save_path)\n",
        "              cv2.imwrite(save_path, cv2.cvtColor(anime_adj, cv2.COLOR_BGR2RGB))\n",
        "              print(anime_adj.shape)\n",
        "            else:\n",
        "              print(save_path)\n",
        "              cv2.imwrite(save_path, cv2.cvtColor(anime, cv2.COLOR_BGR2RGB))\n",
        "              anime_img = anime\n",
        "\n",
        "        end = time.time()\n",
        "        print(f'\\nTotal time: {end-begin} s')\n",
        "        print(f'Average time : {(end-begin)/len(test_files)} s')\n",
        "\n",
        "    return anime_img"
      ],
      "execution_count": 4,
      "outputs": [
        {
          "output_type": "stream",
          "text": [
            "/content/AnimeGAN\n"
          ],
          "name": "stdout"
        }
      ]
    },
    {
      "cell_type": "markdown",
      "metadata": {
        "id": "IXiV_UhmZHFq"
      },
      "source": [
        "# 3.Animeスタイルを適用した画像の生成  \n",
        "originalフォルダーの画像は、一括でスタイル適用された画像が生成される    \n",
        "画像を追加した場合、再度このcellから実行するだけでよい\n",
        "\n",
        "スタイルを適用させる画像のサイズが大きいとGPUのリソースの枯渇でエラーとなる可能性がある  \n",
        "2016x1512はOK 12秒    \n",
        "4032x3024はエラー  "
      ]
    },
    {
      "cell_type": "code",
      "metadata": {
        "id": "I9IoDQoOqxVS",
        "colab": {
          "base_uri": "https://localhost:8080/"
        },
        "outputId": "ab84331c-e71a-41a3-a70c-a1d7766269e3"
      },
      "source": [
        "%cd /content/AnimeGAN\n",
        "\n",
        "org_files = glob('{}/*.*'.format('original'))\n",
        "if len(org_files) > 0:\n",
        "  st_img = test('checkpoint/generator_Hayao_weight', 'Hayao', org_files, True)\n",
        "else:\n",
        "  print(\"\\nNo Image File\")"
      ],
      "execution_count": 8,
      "outputs": [
        {
          "output_type": "stream",
          "text": [
            "/content/AnimeGAN\n",
            "\n",
            "No Image File\n"
          ],
          "name": "stdout"
        }
      ]
    },
    {
      "cell_type": "markdown",
      "metadata": {
        "id": "uRJAFWuh1mb_"
      },
      "source": [
        "# 4.ユーティリティ\n",
        "/cotentの.jpgのファイルを縮小して、originalへ保存  \n",
        "results/Hayaoのデータをすべてダウンロード  \n"
      ]
    },
    {
      "cell_type": "code",
      "metadata": {
        "id": "GJ1HjjizoMWH"
      },
      "source": [
        "import cv2\n",
        "MAXSIZE=1280\n",
        "\n",
        "org_files = glob('{}/*.jpg'.format('/content'))\n",
        "print(org_files)\n",
        "\n",
        "for file in org_files :\n",
        "    img = cv2.imread(file)\n",
        "    print(img.shape)\n",
        "    h0 = img.shape[0]\n",
        "    w0 = img.shape[1]\n",
        "\n",
        "    if w0 > h0 :\n",
        "        if w0 > MAXSIZE :\n",
        "            w1 = MAXSIZE\n",
        "            h1 = int(h0 * MAXSIZE / w0)\n",
        "            img = cv2.resize(img, (w1, h1))\n",
        "    else :\n",
        "        if h1 > MAXSIZE :\n",
        "            h1 = MAXSIZE\n",
        "            w1 = int(w0 * MAXSIZE / h0)\n",
        "            img = cv2.resize(img, (w1, h1))\n",
        "\n",
        "    print (img.shape)\n",
        "    fname = os.path.basename(file)\n",
        "    save_path = os.path.join('/content/AnimeGAN/original','{0}'.format('s_'+fname))\n",
        "    print(save_path)\n",
        "    cv2.imwrite(save_path, img)"
      ],
      "execution_count": null,
      "outputs": []
    },
    {
      "cell_type": "code",
      "metadata": {
        "id": "WfKvkwg30Zru"
      },
      "source": [
        "from google.colab import files\n",
        "\n",
        "org_files = glob('{}/*.*'.format('/content/AnimeGAN/results/Hayao'))\n",
        "print(org_files)\n",
        "for file in org_files :\n",
        "    files.download(file)"
      ],
      "execution_count": null,
      "outputs": []
    },
    {
      "cell_type": "code",
      "metadata": {
        "id": "WL7Ot19e0ZLu"
      },
      "source": [
        "!rm /content/AnimeGAN/original/*.*\n",
        "!rm /content/AnimeGAN/results/Hayao/*.*"
      ],
      "execution_count": null,
      "outputs": []
    },
    {
      "cell_type": "markdown",
      "metadata": {
        "id": "KUqxWR0KZsaM"
      },
      "source": [
        "# 5.補足とメモ  \n",
        "以下はオリジナルのtest.pyを使用する場合  \n",
        "スタイル適用画像は、sampleに保存  \n",
        "結果は、results/Hayaoに出力される  "
      ]
    },
    {
      "cell_type": "code",
      "metadata": {
        "id": "bvjkkkPFoXRa"
      },
      "source": [
        "!python test.py --checkpoint_dir checkpoint/generator_Hayao_weight --test_dir original --style_name Hayao"
      ],
      "execution_count": null,
      "outputs": []
    },
    {
      "cell_type": "code",
      "metadata": {
        "id": "WXt-U1k_62GN"
      },
      "source": [
        "!pip install tensorflow-gpu==1.8.0"
      ],
      "execution_count": null,
      "outputs": []
    },
    {
      "cell_type": "code",
      "metadata": {
        "id": "HGuJbiQCyYua"
      },
      "source": [
        "%cd /content\n",
        "!wget https://github.com/TachibanaYoshino/AnimeGAN/releases/download/Hayao_styleDataV2/Hayao_styleDataV2.7z\n",
        "!7z x Hayao_styleDataV2.7z"
      ],
      "execution_count": null,
      "outputs": []
    },
    {
      "cell_type": "code",
      "metadata": {
        "id": "fv-WRJqBy7V6"
      },
      "source": [
        "!7z x Hayao_styleDataV2.7z"
      ],
      "execution_count": null,
      "outputs": []
    },
    {
      "cell_type": "markdown",
      "metadata": {
        "id": "l403-a_H21h0"
      },
      "source": [
        "https://www.youtube.com/watch?v=R-DBiElq7OQ  \n",
        "https://www.youtube.com/channel/UCaZuPdmZ380SFUMKHVsv_AA  \n",
        "\n"
      ]
    }
  ]
}